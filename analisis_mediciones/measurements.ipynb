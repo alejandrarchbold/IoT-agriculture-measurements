{
 "cells": [
  {
   "cell_type": "markdown",
   "id": "internal-maryland",
   "metadata": {},
   "source": [
    "<table><tr>\n",
    "    <td><img src=\"img/Macc.png\"/></td>\n",
    "    <td><p style=\"font-size:22px;\">Fundamentos para Sistemas Digitales</p></td>\n",
    "</tr></table>"
   ]
  },
  {
   "cell_type": "code",
   "execution_count": null,
   "id": "knowing-growth",
   "metadata": {},
   "outputs": [],
   "source": []
  }
 ],
 "metadata": {
  "kernelspec": {
   "display_name": "Python 3",
   "language": "python",
   "name": "python3"
  },
  "language_info": {
   "codemirror_mode": {
    "name": "ipython",
    "version": 3
   },
   "file_extension": ".py",
   "mimetype": "text/x-python",
   "name": "python",
   "nbconvert_exporter": "python",
   "pygments_lexer": "ipython3",
   "version": "3.8.5"
  }
 },
 "nbformat": 4,
 "nbformat_minor": 5
}
